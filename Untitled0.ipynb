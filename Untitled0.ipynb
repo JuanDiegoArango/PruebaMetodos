{
 "metadata": {
  "name": "",
  "signature": "sha256:8a2408e8e1f0d18ac1267816516d0d5fbb1e3cb504e6231d9dea29dc8bca8487"
 },
 "nbformat": 3,
 "nbformat_minor": 0,
 "worksheets": [
  {
   "cells": [
    {
     "cell_type": "code",
     "collapsed": false,
     "input": [
      "import numpy as np\n",
      "import random\n",
      "import sys\n",
      "\n",
      "marchas= int(raw_input(\"\u00bfCuantas marchas desea?\"))\n",
      "if marchas <=2:\n",
      "    print (\"AVISO:El valor esta fuera del rango valido\")\n",
      "    sys.exit()\n",
      "def caminatas_totales(marchas,distancia):\n",
      "    informacion=[]\n",
      "    X=0.0\n",
      "    Y=0.0\n",
      "    Z=0.0\n",
      "    d=0.0\n",
      "    i=0    \n",
      "    l=0\n",
      "    pasos=np.empty(0)\n",
      "    for i in range (0,marchas):\n",
      "            while d <=distancia:   \n",
      "                a=2*(random.random()-0.5)\n",
      "                b=2*(random.random()-0.5)\n",
      "                c=2*(random.random()-0.5)\n",
      "                r=(a**2+b**2+c**2)**0.5\n",
      "                X=a/r + X\n",
      "                Y=b/r + Y\n",
      "                Z=c/r + Z\n",
      "                d=(X**2 + Y**2 + Z**2)**0.5\n",
      "                l=l+1\n",
      "            pasos=np.append(pasos,l)\n",
      "            X=0.0\n",
      "            Y=0.0\n",
      "            Z=0.0\n",
      "            d=0.0\n",
      "            l=0\n",
      "    promedio =np.mean(pasos)   \n",
      "    dispersion =np.std(pasos)\n",
      "    informacion.append(distancia)\n",
      "    informacion.append(promedio)\n",
      "    informacion.append(dispersion)\n",
      "    return informacion    \n",
      " \n",
      "f=open(\"final_stats.txt\",'w')\n",
      "for i in range (0,50):\n",
      "    b=caminatas_totales(marchas,10*(i+1))\n",
      "    print b\n",
      "    f.write(\"%f  %f  %f\\n\" %(b[0], b[1],b[2]))\n",
      "\n",
      "f.closed \n",
      "    \n",
      "\n",
      "\n",
      "\n"
     ],
     "language": "python",
     "metadata": {},
     "outputs": []
    },
    {
     "cell_type": "code",
     "collapsed": false,
     "input": [],
     "language": "python",
     "metadata": {},
     "outputs": []
    }
   ],
   "metadata": {}
  }
 ]
}